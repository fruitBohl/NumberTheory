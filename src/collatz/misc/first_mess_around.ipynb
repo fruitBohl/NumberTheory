{
 "cells": [
  {
   "cell_type": "code",
   "execution_count": 167,
   "metadata": {},
   "outputs": [],
   "source": [
    "def collatz(\n",
    "    paths: list[tuple[list[int], int]], iterations_remaining: int\n",
    ") -> list[tuple[list[int], int]]:\n",
    "    if iterations_remaining == 0:\n",
    "        for path in paths:\n",
    "            print(path)\n",
    "    else:\n",
    "        paths = add_to_paths(paths)\n",
    "        collatz(paths, iterations_remaining - 1)\n",
    "\n",
    "\n",
    "def add_to_paths(paths: list[tuple[list[int], int]]) -> list[tuple[list[int], int]]:\n",
    "    new_paths = []\n",
    "\n",
    "    for path, evens in paths:\n",
    "        endpoint = path[-1]\n",
    "        new_path = path.copy()\n",
    "        other_path = path.copy()\n",
    "        new_path.append(endpoint * 2)\n",
    "\n",
    "        if (new_path, evens + 1) not in new_paths:\n",
    "            new_paths.append((new_path, evens + 1))\n",
    "\n",
    "        if (endpoint % 3 == 1) & (endpoint > 4):\n",
    "            new_evens = evens\n",
    "\n",
    "            if (endpoint - 1 / 3) % 2 == 0:\n",
    "                new_evens += 1\n",
    "\n",
    "            other_path.append(int((endpoint - 1) / 3))\n",
    "\n",
    "            if (other_path, new_evens) not in new_paths:\n",
    "                new_paths.append((other_path, new_evens))\n",
    "\n",
    "    return new_paths"
   ]
  },
  {
   "cell_type": "code",
   "execution_count": null,
   "metadata": {},
   "outputs": [],
   "source": []
  }
 ],
 "metadata": {
  "kernelspec": {
   "display_name": "Python 3",
   "language": "python",
   "name": "python3"
  },
  "language_info": {
   "codemirror_mode": {
    "name": "ipython",
    "version": 3
   },
   "file_extension": ".py",
   "mimetype": "text/x-python",
   "name": "python",
   "nbconvert_exporter": "python",
   "pygments_lexer": "ipython3",
   "version": "3.9.6"
  },
  "orig_nbformat": 4,
  "vscode": {
   "interpreter": {
    "hash": "aee8b7b246df8f9039afb4144a1f6fd8d2ca17a180786b69acc140d282b71a49"
   }
  }
 },
 "nbformat": 4,
 "nbformat_minor": 2
}
